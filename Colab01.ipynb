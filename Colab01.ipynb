{
  "nbformat": 4,
  "nbformat_minor": 0,
  "metadata": {
    "colab": {
      "provenance": [],
      "authorship_tag": "ABX9TyNJqYnpSTfHzfsHoPfVxcCm",
      "include_colab_link": true
    },
    "kernelspec": {
      "name": "python3",
      "display_name": "Python 3"
    },
    "language_info": {
      "name": "python"
    }
  },
  "cells": [
    {
      "cell_type": "markdown",
      "metadata": {
        "id": "view-in-github",
        "colab_type": "text"
      },
      "source": [
        "<a href=\"https://colab.research.google.com/github/JosepBaro/JosepBaro.github.io/blob/main/Colab01.ipynb\" target=\"_parent\"><img src=\"https://colab.research.google.com/assets/colab-badge.svg\" alt=\"Open In Colab\"/></a>"
      ]
    },
    {
      "cell_type": "code",
      "execution_count": null,
      "metadata": {
        "id": "QviRSd5I56m0"
      },
      "outputs": [],
      "source": []
    },
    {
      "cell_type": "markdown",
      "source": [
        "## This is a first page of a Colab beginer"
      ],
      "metadata": {
        "id": "RXq1u5hK59tF"
      }
    },
    {
      "cell_type": "code",
      "source": [],
      "metadata": {
        "id": "mdJJspY-6K7T"
      },
      "execution_count": null,
      "outputs": []
    }
  ]
}