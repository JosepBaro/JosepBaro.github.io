{
  "nbformat": 4,
  "nbformat_minor": 0,
  "metadata": {
    "colab": {
      "provenance": [],
      "authorship_tag": "ABX9TyN2gUYS0nYkAJo4rLMmwAXk",
      "include_colab_link": true
    },
    "kernelspec": {
      "name": "python3",
      "display_name": "Python 3"
    },
    "language_info": {
      "name": "python"
    }
  },
  "cells": [
    {
      "cell_type": "markdown",
      "metadata": {
        "id": "view-in-github",
        "colab_type": "text"
      },
      "source": [
        "<a href=\"https://colab.research.google.com/github/JosepBaro/JosepBaro.github.io/blob/main/Colab01.ipynb\" target=\"_parent\"><img src=\"https://colab.research.google.com/assets/colab-badge.svg\" alt=\"Open In Colab\"/></a>"
      ]
    },
    {
      "cell_type": "code",
      "execution_count": null,
      "metadata": {
        "id": "QviRSd5I56m0"
      },
      "outputs": [],
      "source": []
    },
    {
      "cell_type": "markdown",
      "source": [
        "## This is a first page of a Colab beginer"
      ],
      "metadata": {
        "id": "RXq1u5hK59tF"
      }
    },
    {
      "cell_type": "code",
      "source": [],
      "metadata": {
        "id": "mdJJspY-6K7T"
      },
      "execution_count": null,
      "outputs": []
    },
    {
      "cell_type": "code",
      "source": [
        "print (\"Hello world\")"
      ],
      "metadata": {
        "colab": {
          "base_uri": "https://localhost:8080/"
        },
        "id": "7uQ_qCWH65da",
        "outputId": "e9aef63f-bd85-4fcd-895e-1c092abf1cb8"
      },
      "execution_count": 1,
      "outputs": [
        {
          "output_type": "stream",
          "name": "stdout",
          "text": [
            "Hello world\n"
          ]
        }
      ]
    },
    {
      "cell_type": "code",
      "source": [
        "x = 1\n",
        "y = 2\n",
        "result = x + y\n",
        "print (f\"This is the result {result}. Et voila\")"
      ],
      "metadata": {
        "colab": {
          "base_uri": "https://localhost:8080/"
        },
        "id": "3Ng3oHSM7O9d",
        "outputId": "31934d13-fd70-45b0-99f8-065503b61314"
      },
      "execution_count": 4,
      "outputs": [
        {
          "output_type": "stream",
          "name": "stdout",
          "text": [
            "This is the result 3. Et voila\n"
          ]
        }
      ]
    },
    {
      "cell_type": "markdown",
      "source": [
        "###Data structures"
      ],
      "metadata": {
        "id": "aJm2sl_H-Ozy"
      }
    },
    {
      "cell_type": "markdown",
      "source": [
        "#### List"
      ],
      "metadata": {
        "id": "IoldtI0s-aPx"
      }
    },
    {
      "cell_type": "code",
      "source": [
        "my_list = []  # This is like basket in the supermarket\n",
        "my_list.append(\"cherry\")\n",
        "my_list.append(\"tomato\")\n",
        "my_list.append(\"bananas\")\n",
        "print (my_list)"
      ],
      "metadata": {
        "colab": {
          "base_uri": "https://localhost:8080/"
        },
        "id": "IeUalFuF-n0I",
        "outputId": "6f83fece-e568-4d42-dcba-9199491d459b"
      },
      "execution_count": 5,
      "outputs": [
        {
          "output_type": "stream",
          "name": "stdout",
          "text": [
            "['cherry', 'tomato', 'bananas']\n"
          ]
        }
      ]
    },
    {
      "cell_type": "code",
      "source": [
        "for fruit in my_list:\n",
        "  print (f\"I love the {fruit} very much\")"
      ],
      "metadata": {
        "colab": {
          "base_uri": "https://localhost:8080/"
        },
        "id": "15eFpQqq_TCA",
        "outputId": "401ba7bb-c556-4912-96e6-325a4aef49e7"
      },
      "execution_count": 6,
      "outputs": [
        {
          "output_type": "stream",
          "name": "stdout",
          "text": [
            "I love the cherry very much\n",
            "I love the tomato very much\n",
            "I love the bananas very much\n"
          ]
        }
      ]
    },
    {
      "cell_type": "markdown",
      "source": [
        "#### Push ti the list\n"
      ],
      "metadata": {
        "id": "SX0P6ptd_uBw"
      }
    },
    {
      "cell_type": "code",
      "source": [
        "container = []\n",
        "for i in range(10):\n",
        "  container.append(i)\n",
        "print (container)"
      ],
      "metadata": {
        "colab": {
          "base_uri": "https://localhost:8080/"
        },
        "id": "QAnZzCi7_0WH",
        "outputId": "3c1a5af8-200f-4925-f4db-70e90e0f0d5e"
      },
      "execution_count": 7,
      "outputs": [
        {
          "output_type": "stream",
          "name": "stdout",
          "text": [
            "[0, 1, 2, 3, 4, 5, 6, 7, 8, 9]\n"
          ]
        }
      ]
    },
    {
      "cell_type": "code",
      "source": [
        "from random import choices\n",
        "fruits = [\"apple\", \"banaana\", \"orange\", \"coco\"]\n",
        "container = []\n",
        "for i in range(3):\n",
        "  container.append(choices(fruits))\n",
        "print (f\"I enjoyed the salad with the following fruist: {container}\")\n"
      ],
      "metadata": {
        "colab": {
          "base_uri": "https://localhost:8080/"
        },
        "id": "xA4zm-9CBHwv",
        "outputId": "f8638956-23a2-4c1b-fb9b-f408d47264e6"
      },
      "execution_count": 25,
      "outputs": [
        {
          "output_type": "stream",
          "name": "stdout",
          "text": [
            "I enjoyed the salad with the following fruist: [['orange'], ['apple'], ['apple']]\n"
          ]
        }
      ]
    },
    {
      "cell_type": "markdown",
      "source": [
        "#### Dictionaries"
      ],
      "metadata": {
        "id": "zjV_9R5vEZfF"
      }
    },
    {
      "cell_type": "code",
      "source": [
        "meals = {\"dinner\": \"steak\", \"lunch\": \"salad\", \"breakfast\": \"blck cofee\"}\n",
        "for meal_name, food in meals.items():\n",
        "  print (f\"For {meal_name} I like to eat {food}\")"
      ],
      "metadata": {
        "colab": {
          "base_uri": "https://localhost:8080/"
        },
        "id": "p2XmVh3AEhR7",
        "outputId": "f3bbe7fc-e180-46c6-b9cb-c26a08e5b81a"
      },
      "execution_count": 35,
      "outputs": [
        {
          "output_type": "stream",
          "name": "stdout",
          "text": [
            "For dinner I like to eat steak\n",
            "For lunch I like to eat salad\n",
            "For breakfast I like to eat blck cofee\n"
          ]
        }
      ]
    }
  ]
}